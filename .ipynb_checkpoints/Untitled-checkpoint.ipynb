{
 "cells": [
  {
   "cell_type": "code",
   "execution_count": 1,
   "metadata": {},
   "outputs": [],
   "source": [
    "import pandas as pd\n",
    "import matplotlib.pyplot as plt\n",
    "import seaborn as sd\n",
    "import numpy as np\n",
    "low_memory=False\n",
    "%matplotlib inline"
   ]
  },
  {
   "cell_type": "code",
   "execution_count": 2,
   "metadata": {
    "scrolled": false
   },
   "outputs": [
    {
     "data": {
      "text/html": [
       "<div>\n",
       "<style scoped>\n",
       "    .dataframe tbody tr th:only-of-type {\n",
       "        vertical-align: middle;\n",
       "    }\n",
       "\n",
       "    .dataframe tbody tr th {\n",
       "        vertical-align: top;\n",
       "    }\n",
       "\n",
       "    .dataframe thead th {\n",
       "        text-align: right;\n",
       "    }\n",
       "</style>\n",
       "<table border=\"1\" class=\"dataframe\">\n",
       "  <thead>\n",
       "    <tr style=\"text-align: right;\">\n",
       "      <th></th>\n",
       "      <th>NR_PARTIDO</th>\n",
       "      <th>NM_PARTIDO</th>\n",
       "      <th>VR_RECEITA</th>\n",
       "    </tr>\n",
       "  </thead>\n",
       "  <tbody>\n",
       "    <tr>\n",
       "      <th>0</th>\n",
       "      <td>45</td>\n",
       "      <td>Partido da Social Democracia Brasileira</td>\n",
       "      <td>5000.0</td>\n",
       "    </tr>\n",
       "    <tr>\n",
       "      <th>1</th>\n",
       "      <td>15</td>\n",
       "      <td>Movimento Democrático Brasileiro</td>\n",
       "      <td>3000.0</td>\n",
       "    </tr>\n",
       "    <tr>\n",
       "      <th>2</th>\n",
       "      <td>17</td>\n",
       "      <td>Partido Social Liberal</td>\n",
       "      <td>1000.0</td>\n",
       "    </tr>\n",
       "    <tr>\n",
       "      <th>3</th>\n",
       "      <td>90</td>\n",
       "      <td>Partido Republicano da Ordem Social</td>\n",
       "      <td>1200.0</td>\n",
       "    </tr>\n",
       "    <tr>\n",
       "      <th>4</th>\n",
       "      <td>10</td>\n",
       "      <td>REPUBLICANOS</td>\n",
       "      <td>2000.0</td>\n",
       "    </tr>\n",
       "  </tbody>\n",
       "</table>\n",
       "</div>"
      ],
      "text/plain": [
       "   NR_PARTIDO                               NM_PARTIDO  VR_RECEITA\n",
       "0          45  Partido da Social Democracia Brasileira      5000.0\n",
       "1          15         Movimento Democrático Brasileiro      3000.0\n",
       "2          17                   Partido Social Liberal      1000.0\n",
       "3          90      Partido Republicano da Ordem Social      1200.0\n",
       "4          10                             REPUBLICANOS      2000.0"
      ]
     },
     "execution_count": 2,
     "metadata": {},
     "output_type": "execute_result"
    }
   ],
   "source": [
    "campos_receita = [\"NR_PARTIDO\",\"NM_PARTIDO\",\"VR_RECEITA\"]\n",
    "campos_despesas = [\"NR_PARTIDO\",\"NM_PARTIDO\",\"VR_DESPESA\"]\n",
    "df_receita = pd.read_csv(\"receitas_orgaos_partidarios_2020_SP.csv\",sep = ',',names = campos_receita,)\n",
    "df_despesas = pd.read_csv(\"despesas_contratadas_orgaos_partidarios_2020_SP.csv\",sep=',',names = campos_despesas)\n",
    "df_receita.head(5)"
   ]
  },
  {
   "cell_type": "code",
   "execution_count": 3,
   "metadata": {},
   "outputs": [
    {
     "data": {
      "text/html": [
       "<div>\n",
       "<style scoped>\n",
       "    .dataframe tbody tr th:only-of-type {\n",
       "        vertical-align: middle;\n",
       "    }\n",
       "\n",
       "    .dataframe tbody tr th {\n",
       "        vertical-align: top;\n",
       "    }\n",
       "\n",
       "    .dataframe thead th {\n",
       "        text-align: right;\n",
       "    }\n",
       "</style>\n",
       "<table border=\"1\" class=\"dataframe\">\n",
       "  <thead>\n",
       "    <tr style=\"text-align: right;\">\n",
       "      <th></th>\n",
       "      <th>NR_PARTIDO</th>\n",
       "      <th>NM_PARTIDO</th>\n",
       "      <th>VR_DESPESA</th>\n",
       "    </tr>\n",
       "  </thead>\n",
       "  <tbody>\n",
       "    <tr>\n",
       "      <th>0</th>\n",
       "      <td>19</td>\n",
       "      <td>PODE</td>\n",
       "      <td>1000.0</td>\n",
       "    </tr>\n",
       "    <tr>\n",
       "      <th>1</th>\n",
       "      <td>43</td>\n",
       "      <td>PV</td>\n",
       "      <td>2500.0</td>\n",
       "    </tr>\n",
       "    <tr>\n",
       "      <th>2</th>\n",
       "      <td>19</td>\n",
       "      <td>PODE</td>\n",
       "      <td>2.6</td>\n",
       "    </tr>\n",
       "    <tr>\n",
       "      <th>3</th>\n",
       "      <td>19</td>\n",
       "      <td>PODE</td>\n",
       "      <td>2.6</td>\n",
       "    </tr>\n",
       "    <tr>\n",
       "      <th>4</th>\n",
       "      <td>19</td>\n",
       "      <td>PODE</td>\n",
       "      <td>5.2</td>\n",
       "    </tr>\n",
       "  </tbody>\n",
       "</table>\n",
       "</div>"
      ],
      "text/plain": [
       "   NR_PARTIDO NM_PARTIDO  VR_DESPESA\n",
       "0          19       PODE      1000.0\n",
       "1          43         PV      2500.0\n",
       "2          19       PODE         2.6\n",
       "3          19       PODE         2.6\n",
       "4          19       PODE         5.2"
      ]
     },
     "execution_count": 3,
     "metadata": {},
     "output_type": "execute_result"
    }
   ],
   "source": [
    "df_despesas.head(5)"
   ]
  },
  {
   "cell_type": "code",
   "execution_count": 4,
   "metadata": {
    "scrolled": false
   },
   "outputs": [
    {
     "data": {
      "text/plain": [
       "{45: 0,\n",
       " 15: 0,\n",
       " 17: 0,\n",
       " 90: 0,\n",
       " 10: 0,\n",
       " 50: 0,\n",
       " 25: 0,\n",
       " 12: 0,\n",
       " 55: 0,\n",
       " 65: 0,\n",
       " 23: 0,\n",
       " 19: 0,\n",
       " 22: 0,\n",
       " 18: 0,\n",
       " 13: 0,\n",
       " 40: 0,\n",
       " 11: 0,\n",
       " 20: 0,\n",
       " 14: 0,\n",
       " 77: 0,\n",
       " 43: 0,\n",
       " 51: 0,\n",
       " 70: 0,\n",
       " 80: 0,\n",
       " 36: 0,\n",
       " 28: 0,\n",
       " 33: 0,\n",
       " 16: 0,\n",
       " 27: 0,\n",
       " 30: 0,\n",
       " 35: 0,\n",
       " 21: 0}"
      ]
     },
     "execution_count": 4,
     "metadata": {},
     "output_type": "execute_result"
    }
   ],
   "source": [
    "total_partidos_receita = {}\n",
    "total_partidos_despesas = {}\n",
    "partidos = []\n",
    "numeros = df_receita[\"NR_PARTIDO\"]\n",
    "for x in numeros:\n",
    "    if x not in total_partidos_receita: total_partidos_receita[x] = 0\n",
    "    if x not in total_partidos_despesas: total_partidos_despesas[x] = 0  \n",
    "    if x not in partidos: partidos.append(x)\n",
    "total_partidos_receita and total_partidos_receita\n"
   ]
  },
  {
   "cell_type": "code",
   "execution_count": 5,
   "metadata": {},
   "outputs": [
    {
     "data": {
      "text/plain": [
       "[45,\n",
       " 15,\n",
       " 17,\n",
       " 90,\n",
       " 10,\n",
       " 50,\n",
       " 25,\n",
       " 12,\n",
       " 55,\n",
       " 65,\n",
       " 23,\n",
       " 19,\n",
       " 22,\n",
       " 18,\n",
       " 13,\n",
       " 40,\n",
       " 11,\n",
       " 20,\n",
       " 14,\n",
       " 77,\n",
       " 43,\n",
       " 51,\n",
       " 70,\n",
       " 80,\n",
       " 36,\n",
       " 28,\n",
       " 33,\n",
       " 16,\n",
       " 27,\n",
       " 30,\n",
       " 35,\n",
       " 21]"
      ]
     },
     "execution_count": 5,
     "metadata": {},
     "output_type": "execute_result"
    }
   ],
   "source": [
    "partidos"
   ]
  },
  {
   "cell_type": "code",
   "execution_count": 6,
   "metadata": {
    "scrolled": true
   },
   "outputs": [
    {
     "data": {
      "text/plain": [
       "{45: 13067044.690000001,\n",
       " 15: 15725081.989999996,\n",
       " 17: 16852044.22,\n",
       " 90: 331403.8,\n",
       " 10: 14178794.69,\n",
       " 50: 9394218.059999997,\n",
       " 25: 5149801.0200000005,\n",
       " 12: 1257681.9400000002,\n",
       " 55: 23680772.7,\n",
       " 65: 776521.39,\n",
       " 23: 5338271.22,\n",
       " 19: 28051601.100000005,\n",
       " 22: 2548110.18,\n",
       " 18: 5809713.0,\n",
       " 13: 33695193.68000002,\n",
       " 40: 22446227.76,\n",
       " 11: 9843325.129999999,\n",
       " 20: 264599.47,\n",
       " 14: 4955444.5,\n",
       " 77: 9877914.200000001,\n",
       " 43: 5137069.77,\n",
       " 51: 9106180.889999999,\n",
       " 70: 289003.28,\n",
       " 80: 97426.59,\n",
       " 36: 722353.2999999999,\n",
       " 28: 395035.36,\n",
       " 33: 57116.689999999995,\n",
       " 16: 3120.0,\n",
       " 27: 899684.28,\n",
       " 30: 778202.3099999996,\n",
       " 35: 24815.0,\n",
       " 21: 209594.23}"
      ]
     },
     "execution_count": 6,
     "metadata": {},
     "output_type": "execute_result"
    }
   ],
   "source": [
    "#total de Receita de cada partido\n",
    "lenRows = len(df_receita[\"VR_RECEITA\"])\n",
    "for row in range(0, lenRows):\n",
    "    total_partidos_receita[df_receita[\"NR_PARTIDO\"][row]] += df_receita[\"VR_RECEITA\"][row]\n",
    "total_partidos_receita"
   ]
  },
  {
   "cell_type": "code",
   "execution_count": 7,
   "metadata": {},
   "outputs": [
    {
     "data": {
      "text/plain": [
       "{45: 4851398.810000007,\n",
       " 15: 7973946.489999995,\n",
       " 17: 11158981.5,\n",
       " 90: 235569.9,\n",
       " 10: 12633152.219999993,\n",
       " 50: 3876034.4200000074,\n",
       " 25: 4643518.769999992,\n",
       " 12: 768143.1099999994,\n",
       " 55: 17564612.250000004,\n",
       " 65: 717736.0100000002,\n",
       " 23: 2750258.550000003,\n",
       " 19: 21229740.709999997,\n",
       " 22: 1359012.6299999987,\n",
       " 18: 3496628.5700000003,\n",
       " 13: 12940530.839999987,\n",
       " 40: 17851623.490000006,\n",
       " 11: 3989574.689999997,\n",
       " 20: 327982.9000000004,\n",
       " 14: 1987433.4999999995,\n",
       " 77: 7225063.489999985,\n",
       " 43: 2130402.22,\n",
       " 51: 5019893.260000012,\n",
       " 70: 241752.5899999993,\n",
       " 80: 57588.95,\n",
       " 36: 115580.20999999999,\n",
       " 28: 316933.1400000001,\n",
       " 33: 37413.10999999999,\n",
       " 16: 2922.2100000000023,\n",
       " 27: 757277.6099999999,\n",
       " 30: 443718.35000000015,\n",
       " 35: 9532.25,\n",
       " 21: 2738.55}"
      ]
     },
     "execution_count": 7,
     "metadata": {},
     "output_type": "execute_result"
    }
   ],
   "source": [
    "#total de Despesa de cada partido\n",
    "lenRows = len(df_despesas[\"VR_DESPESA\"])\n",
    "for row in range(0, lenRows):\n",
    "    total_partidos_despesas[df_despesas[\"NR_PARTIDO\"][row]] += df_despesas[\"VR_DESPESA\"][row]\n",
    "total_partidos_despesas\n",
    "    "
   ]
  },
  {
   "cell_type": "code",
   "execution_count": null,
   "metadata": {},
   "outputs": [],
   "source": [
    "labels = partidos\n",
    "Despesas= total_partidos_despesas.values()\n",
    "Receita = total_partidos_receita.values()\n",
    "\n",
    "x = np.arange(len(labels))  # the label locations\n",
    "y = np.arange(0,30000000,1000)\n",
    "width = 0.32# the width of the bars\n",
    "fig= plt.figure(figsize= (20,9))\n",
    "ax = fig.add_axes([0,0,2,2])\n",
    "ax = plt.subplot()\n",
    "ax.bar(x - width/2, Despesas, width, label='Despesas')\n",
    "ax.bar(x + width/2, Receita, width, label='Receita')\n",
    "\n",
    "# Add some text for labels, title and custom x-axis tick labels, etc.\n",
    "ax.set_ylabel('Valor R$')\n",
    "ax.set_yticks(y)\n",
    "ax.set_title('Receita e Despesas por Partido 2020')\n",
    "ax.set_xticks(x)\n",
    "ax.set_xticklabels(labels)\n",
    "ax.legend()\n",
    "\n",
    "plt.show()"
   ]
  },
  {
   "cell_type": "code",
   "execution_count": null,
   "metadata": {},
   "outputs": [],
   "source": [
    "\n",
    "\n",
    "\n",
    "\n"
   ]
  }
 ],
 "metadata": {
  "kernelspec": {
   "display_name": "Python 3",
   "language": "python",
   "name": "python3"
  },
  "language_info": {
   "codemirror_mode": {
    "name": "ipython",
    "version": 3
   },
   "file_extension": ".py",
   "mimetype": "text/x-python",
   "name": "python",
   "nbconvert_exporter": "python",
   "pygments_lexer": "ipython3",
   "version": "3.8.3"
  }
 },
 "nbformat": 4,
 "nbformat_minor": 4
}
